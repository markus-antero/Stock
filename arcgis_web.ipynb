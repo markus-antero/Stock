{
 "cells": [
  {
   "cell_type": "code",
   "execution_count": 2,
   "metadata": {
    "collapsed": true
   },
   "outputs": [],
   "source": [
    "from arcgis.features import find_locations\n",
    "from arcgis.features.analyze_patterns import interpolate_points\n",
    "from arcgis.features import use_proximity\n",
    "from arcgis.features import summarize_data\n",
    "\n",
    "from arcgis.geocoding import geocode\n",
    "\n",
    "import arcgis \n",
    "from arcgis.gis import GIS\n",
    "\n",
    "import pandas as pd\n",
    "import os\n",
    "import json\n",
    "from IPython.display import display\n",
    "\n",
    "from data.geographic import gisConn, gisUser, gisPass\n",
    "gis = GIS(gisConn, gisUser, gisPass)\n",
    "\n"
   ]
  },
  {
   "cell_type": "code",
   "execution_count": 3,
   "metadata": {
    "collapsed": true
   },
   "outputs": [],
   "source": [
    "def registerWithGis(gis):\n",
    "    web_map_dict = dict()\n",
    "    web_map_dict1 = dict()\n",
    "    with open(\"./data/arcgis_map.json\",\"r\") as file_handle:\n",
    "        web_map_dict = json.load(file_handle)\n",
    "\n",
    "    with open(\"./data/arcgis_map_scene.json\",\"r\") as file_handle:\n",
    "        web_map_dict1 = json.load(file_handle)\n",
    "    return web_map_dict, web_map_dict1, gis\n",
    "\n"
   ]
  },
  {
   "cell_type": "code",
   "execution_count": 4,
   "metadata": {
    "collapsed": false
   },
   "outputs": [
    {
     "data": {
      "text/plain": [
       "[<Item title:\"2012 USA Median Household Income (Mature Support)\" type:Map Service owner:esri>,\n",
       " <Item title:\"2012 USA Median Age (Mature Support)\" type:Map Service owner:esri>,\n",
       " <Item title:\"2012 USA Median Home Value (Mature Support)\" type:Map Service owner:esri>,\n",
       " <Item title:\"2012 USA Median Net Worth (Mature Support)\" type:Map Service owner:esri>]"
      ]
     },
     "execution_count": 4,
     "metadata": {},
     "output_type": "execute_result"
    }
   ],
   "source": [
    "gis = GIS()\n",
    "web_map_dict, web_map_dict1, gis = registerWithGis(gis)\n",
    "search_result = gis.content.search(\"title:2012 USA Median Age AND owner:esri\", \n",
    "                                   item_type = \"Map Service\", outside_org = True)\n",
    "\n",
    "search_result"
   ]
  },
  {
   "cell_type": "code",
   "execution_count": 16,
   "metadata": {
    "collapsed": false
   },
   "outputs": [
    {
     "data": {
      "text/html": [
       "<div class=\"item_container\" style=\"height: auto; overflow: hidden; border: 1px solid #cfcfcf; border-radius: 2px; background: #f6fafa; line-height: 1.21429em; padding: 10px;\">\n",
       "                    <div class=\"item_left\" style=\"width: 210px; float: left;\">\n",
       "                       <a href='https://www.arcgis.com/home/item.html?id=fce0ca8972ae4268bc4a69443b8d1ef5' target='_blank'>\n",
       "                        <img src='data:image/png;base64,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' width='200' height='133' class=\"itemThumbnail\">\n",
       "                       </a>\n",
       "                    </div>\n",
       "\n",
       "                    <div class=\"item_right\"     style=\"float: none; width: auto; overflow: hidden;\">\n",
       "                        <a href='https://www.arcgis.com/home/item.html?id=fce0ca8972ae4268bc4a69443b8d1ef5' target='_blank'><b>2012 USA Median Age (Mature Support)</b>\n",
       "                        </a>\n",
       "                        <br/>This map service shows the median age of people in the United States in 2012.<img src='https://www.arcgis.com/home/js/jsapi/esri/css/images/item_type_icons/mapimages16.png' style=\"vertical-align:middle;\">Map Image Layer by esri\n",
       "                        <br/>Last Modified: helmikuu 02, 2016\n",
       "                        <br/>2 comments, 1 202 260 views\n",
       "                    </div>\n",
       "                </div>\n",
       "                "
      ],
      "text/plain": [
       "<Item title:\"2012 USA Median Age (Mature Support)\" type:Map Service owner:esri>"
      ]
     },
     "execution_count": 16,
     "metadata": {},
     "output_type": "execute_result"
    }
   ],
   "source": [
    "median_age_weblayer = search_result[1]\n",
    "median_age_weblayer"
   ]
  },
  {
   "cell_type": "code",
   "execution_count": 17,
   "metadata": {
    "collapsed": false
   },
   "outputs": [
    {
     "data": {
      "text/plain": [
       "{'baseMap': {'baseMapLayers': [{'id': 'defaultBasemap',\n",
       "    'layerType': 'ArcGISTiledMapServiceLayer',\n",
       "    'opacity': 1,\n",
       "    'title': 'World Topographic Map',\n",
       "    'url': 'https://services.arcgisonline.com/ArcGIS/rest/services/World_Topo_Map/MapServer',\n",
       "    'visibility': True}],\n",
       "  'title': 'Topographic'},\n",
       " 'operationalLayers': [{'itemId': 'fce0ca8972ae4268bc4a69443b8d1ef5',\n",
       "   'layerType': 'ArcGISMapServiceLayer',\n",
       "   'opacity': 1,\n",
       "   'title': '2012 USA Median Age (Mature Support)',\n",
       "   'url': 'http://server.arcgisonline.com/ArcGIS/rest/services/Demographics/USA_Median_Age/MapServer',\n",
       "   'visibility': True}],\n",
       " 'spatialReference': {'latestWkid': 3857, 'wkid': 102100},\n",
       " 'version': '2.5'}"
      ]
     },
     "execution_count": 17,
     "metadata": {},
     "output_type": "execute_result"
    }
   ],
   "source": [
    "web_map_dict1['operationalLayers'][0]['itemId'] = median_age_weblayer.itemid\n",
    "web_map_dict1['operationalLayers'][0]['layerType'] = \"ArcGISMapServiceLayer\"\n",
    "web_map_dict1['operationalLayers'][0]['title'] = median_age_weblayer.title\n",
    "web_map_dict1['operationalLayers'][0]['url'] = median_age_weblayer.url\n",
    "\n",
    "web_map_dict1"
   ]
  },
  {
   "cell_type": "code",
   "execution_count": 18,
   "metadata": {
    "collapsed": false
   },
   "outputs": [
    {
     "data": {
      "text/plain": [
       "{'snippet': 'This map service shows the median age of peoplein the United States as of 2012 census. The Median Age forthe U.S. is 37 years of age.',\n",
       " 'tags': 'ArcGIS Python API',\n",
       " 'text': '{\"version\": \"2.5\", \"spatialReference\": {\"latestWkid\": 3857, \"wkid\": 102100}, \"baseMap\": {\"baseMapLayers\": [{\"title\": \"World Topographic Map\", \"id\": \"defaultBasemap\", \"layerType\": \"ArcGISTiledMapServiceLayer\", \"url\": \"https://services.arcgisonline.com/ArcGIS/rest/services/World_Topo_Map/MapServer\", \"visibility\": true, \"opacity\": 1}], \"title\": \"Topographic\"}, \"operationalLayers\": [{\"title\": \"2012 USA Median Age (Mature Support)\", \"layerType\": \"ArcGISMapServiceLayer\", \"itemId\": \"fce0ca8972ae4268bc4a69443b8d1ef5\", \"url\": \"http://server.arcgisonline.com/ArcGIS/rest/services/Demographics/USA_Median_Age/MapServer\", \"visibility\": true, \"opacity\": 1}]}',\n",
       " 'title': 'USA median age map',\n",
       " 'type': 'Web Map'}"
      ]
     },
     "execution_count": 18,
     "metadata": {},
     "output_type": "execute_result"
    }
   ],
   "source": [
    "web_map_properties = {'title':'USA median age map',\n",
    "                     'type':'Web Map',\n",
    "                     'snippet':'This map service shows the median age of people' +\\\n",
    "                     'in the United States as of 2012 census. The Median Age for' +\\\n",
    "                      'the U.S. is 37 years of age.',\n",
    "                     'tags':'ArcGIS Python API',\n",
    "                     'text':json.dumps(web_map_dict1)}\n",
    "\n",
    "web_map_item = gis.content.add(web_map_properties)\n",
    "web_map_properties"
   ]
  },
  {
   "cell_type": "code",
   "execution_count": 19,
   "metadata": {
    "collapsed": false
   },
   "outputs": [
    {
     "data": {
      "text/html": [
       "<div class=\"item_container\" style=\"height: auto; overflow: hidden; border: 1px solid #cfcfcf; border-radius: 2px; background: #f6fafa; line-height: 1.21429em; padding: 10px;\">\n",
       "                    <div class=\"item_left\" style=\"width: 210px; float: left;\">\n",
       "                       <a href='https://www.arcgis.com/home/item.html?id=7de5c2a432b340979c6900c5b9930b8a' target='_blank'>\n",
       "                        <img src='http://static.arcgis.com/images/desktopapp.png' class=\"itemThumbnail\">\n",
       "                       </a>\n",
       "                    </div>\n",
       "\n",
       "                    <div class=\"item_right\"     style=\"float: none; width: auto; overflow: hidden;\">\n",
       "                        <a href='https://www.arcgis.com/home/item.html?id=7de5c2a432b340979c6900c5b9930b8a' target='_blank'><b>USA median age map</b>\n",
       "                        </a>\n",
       "                        <br/>This map service shows the median age of peoplein the United States as of 2012 census. The Median Age forthe U.S. is 37 years of age.<img src='https://www.arcgis.com/home/js/jsapi/esri/css/images/item_type_icons/maps16.png' style=\"vertical-align:middle;\">Web Map by w.maquire\n",
       "                        <br/>Last Modified: toukokuu 26, 2017\n",
       "                        <br/>0 comments, 0 views\n",
       "                    </div>\n",
       "                </div>\n",
       "                "
      ],
      "text/plain": [
       "<Item title:\"USA median age map\" type:Web Map owner:w.maquire>"
      ]
     },
     "execution_count": 19,
     "metadata": {},
     "output_type": "execute_result"
    }
   ],
   "source": [
    "web_map_item"
   ]
  },
  {
   "cell_type": "code",
   "execution_count": 5,
   "metadata": {
    "collapsed": false
   },
   "outputs": [
    {
     "data": {
      "text/plain": [
       "{'baseMap': {'baseMapLayers': [{'id': '933075fa973f49948a88b84dae743704',\n",
       "    'layerDefinition': {},\n",
       "    'layerType': 'ArcGISTiledMapServiceLayer',\n",
       "    'opacity': 1,\n",
       "    'url': 'http://services.arcgisonline.com/ArcGIS/rest/services/World_Street_Map/MapServer',\n",
       "    'visibility': True}],\n",
       "  'elevationLayers': [{'id': 'globalElevation_0',\n",
       "    'layerType': 'ArcGISTiledElevationServiceLayer',\n",
       "    'url': 'https://elevation3d.arcgis.com/arcgis/rest/services/WorldElevation3D/Terrain3D/ImageServer'}],\n",
       "  'title': 'World Street Map'},\n",
       " 'operationalLayers': [{'itemId': '',\n",
       "   'layerType': '',\n",
       "   'opacity': 1,\n",
       "   'title': '',\n",
       "   'url': '',\n",
       "   'visibility': True}],\n",
       " 'spatialReference': {'latestWkid': 3857, 'wkid': 102100},\n",
       " 'tables': [],\n",
       " 'version': '1.4',\n",
       " 'viewingMode': 'global'}"
      ]
     },
     "execution_count": 5,
     "metadata": {},
     "output_type": "execute_result"
    }
   ],
   "source": [
    "web_map_dict"
   ]
  },
  {
   "cell_type": "code",
   "execution_count": 6,
   "metadata": {
    "collapsed": false
   },
   "outputs": [
    {
     "data": {
      "text/plain": [
       "[<Item title:\"Montreal, Canada Buildings\" type:Scene Service owner:esri_3d>,\n",
       " <Item title:\"Buildings_Montreal\" type:Scene Service owner:esri_3d>]"
      ]
     },
     "metadata": {},
     "output_type": "display_data"
    }
   ],
   "source": [
    "search_result = gis.content.search(\"title:Montreal, Canada Buildings AND owner:esri_3d\", \n",
    "                                   item_type=\"scene service\", outside_org = True)\n",
    "display(search_result)"
   ]
  },
  {
   "cell_type": "code",
   "execution_count": 8,
   "metadata": {
    "collapsed": false
   },
   "outputs": [],
   "source": [
    "buildings_layer = search_result[0]\n",
    "web_map_dict['operationalLayers'][0]['itemId'] = buildings_layer.itemid\n",
    "web_map_dict['operationalLayers'][0]['layerType'] = \"ArcGISSceneServiceLayer\"\n",
    "web_map_dict['operationalLayers'][0]['title'] = buildings_layer.title\n",
    "web_map_dict['operationalLayers'][0]['url'] = buildings_layer.url"
   ]
  },
  {
   "cell_type": "code",
   "execution_count": 10,
   "metadata": {
    "collapsed": false
   },
   "outputs": [
    {
     "data": {
      "text/html": [
       "<div class=\"item_container\" style=\"height: auto; overflow: hidden; border: 1px solid #cfcfcf; border-radius: 2px; background: #f6fafa; line-height: 1.21429em; padding: 10px;\">\n",
       "                    <div class=\"item_left\" style=\"width: 210px; float: left;\">\n",
       "                       <a href='https://www.arcgis.com/home/item.html?id=dab10525280c48118f5dd91804e3f692' target='_blank'>\n",
       "                        <img src='http://static.arcgis.com/images/desktopapp.png' class=\"itemThumbnail\">\n",
       "                       </a>\n",
       "                    </div>\n",
       "\n",
       "                    <div class=\"item_right\"     style=\"float: none; width: auto; overflow: hidden;\">\n",
       "                        <a href='https://www.arcgis.com/home/item.html?id=dab10525280c48118f5dd91804e3f692' target='_blank'><b>Web scene with photo realistic buildings</b>\n",
       "                        </a>\n",
       "                        <br/>This scene highlights buildings of Montreal, Canada<img src='https://www.arcgis.com/home/js/jsapi/esri/css/images/item_type_icons/webscene16.png' style=\"vertical-align:middle;\">Web Scene by w.maquire\n",
       "                        <br/>Last Modified: toukokuu 27, 2017\n",
       "                        <br/>0 comments, 0 views\n",
       "                    </div>\n",
       "                </div>\n",
       "                "
      ],
      "text/plain": [
       "<Item title:\"Web scene with photo realistic buildings\" type:Web Scene owner:w.maquire>"
      ]
     },
     "metadata": {},
     "output_type": "display_data"
    }
   ],
   "source": [
    "web_scene_item_properties = {'title':'Web scene with photo realistic buildings',\n",
    "                            'type':'Web Scene',\n",
    "                            'snippet':'This scene highlights buildings of Montreal, Canada',\n",
    "                            'tags':'ArcGIS Python API',\n",
    "                            'text': json.dumps(web_map_dict)}\n",
    "\n",
    "# Use the add() method to publish a new web scenej\n",
    "web_scene_item = gis.content.add(web_scene_item_properties)\n",
    "web_scene_item.share(True)\n",
    "display(web_scene_item)"
   ]
  },
  {
   "cell_type": "code",
   "execution_count": 11,
   "metadata": {
    "collapsed": false,
    "scrolled": true
   },
   "outputs": [
    {
     "data": {
      "text/html": [
       "<iframe width=960 height=600 src=\"http://www.arcgis.com/home/webscene/viewer.html?webscene=dab10525280c48118f5dd91804e3f692\"/>"
      ],
      "text/plain": [
       "WebScene([('viewingMode', 'global'),\n",
       "          ('operationalLayers',\n",
       "           [{'itemId': 'f4b4881270124343a4cc2f847f86f54c',\n",
       "             'layerType': 'ArcGISSceneServiceLayer',\n",
       "             'opacity': 1,\n",
       "             'title': 'Montreal, Canada Buildings',\n",
       "             'url': 'https://tiles.arcgis.com/tiles/P3ePLMYs2RVChkJx/arcgis/rest/services/Building_Montreal/SceneServer',\n",
       "             'visibility': True}]),\n",
       "          ('version', '1.4'),\n",
       "          ('spatialReference', {'latestWkid': 3857, 'wkid': 102100}),\n",
       "          ('baseMap',\n",
       "           {'baseMapLayers': [{'id': '933075fa973f49948a88b84dae743704',\n",
       "              'layerDefinition': {},\n",
       "              'layerType': 'ArcGISTiledMapServiceLayer',\n",
       "              'opacity': 1,\n",
       "              'url': 'http://services.arcgisonline.com/ArcGIS/rest/services/World_Street_Map/MapServer',\n",
       "              'visibility': True}],\n",
       "            'elevationLayers': [{'id': 'globalElevation_0',\n",
       "              'layerType': 'ArcGISTiledElevationServiceLayer',\n",
       "              'url': 'https://elevation3d.arcgis.com/arcgis/rest/services/WorldElevation3D/Terrain3D/ImageServer'}],\n",
       "            'title': 'World Street Map'}),\n",
       "          ('tables', [])])"
      ]
     },
     "execution_count": 11,
     "metadata": {},
     "output_type": "execute_result"
    }
   ],
   "source": [
    "web_scene_obj = arcgis.mapping.WebScene(web_scene_item)\n",
    "web_scene_obj"
   ]
  },
  {
   "cell_type": "code",
   "execution_count": null,
   "metadata": {
    "collapsed": true
   },
   "outputs": [],
   "source": [
    "#search montreali canada"
   ]
  }
 ],
 "metadata": {
  "anaconda-cloud": {},
  "kernelspec": {
   "display_name": "Python [conda root]",
   "language": "python",
   "name": "conda-root-py"
  },
  "language_info": {
   "codemirror_mode": {
    "name": "ipython",
    "version": 3
   },
   "file_extension": ".py",
   "mimetype": "text/x-python",
   "name": "python",
   "nbconvert_exporter": "python",
   "pygments_lexer": "ipython3",
   "version": "3.5.2"
  }
 },
 "nbformat": 4,
 "nbformat_minor": 1
}
