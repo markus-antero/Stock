{
 "cells": [
  {
   "cell_type": "code",
   "execution_count": 3,
   "metadata": {
    "collapsed": false
   },
   "outputs": [
    {
     "data": {
      "text/plain": [
       "'\\nmain fields:\\n------------\\nClient ID\\n- 3hEOA0ytHFO2XH3w\\n\\nClient Secret:\\n- f3721c85ba2d4c919a792f6cf427ca8e\\n\\nTemporary Token\\n- q4Drp_tg2sHmcDXdrmrepO7y1v69kfN03rP6vdr9Ie89Q2HEIZhg_O5TXoH3aixk44X_o9i9XMIWOP1ZHPe4XrsWesWOx0CY0SVWsiO-SdsrwuXnIJVv8nco3D6ZysVY72NBF4KEqe490ccLdOgf6Q..\\n\\nService Details:\\n----------------\\nGeocoding and Place Search\\n- https://utility.arcgis.com/usrsvcs/appservices/z2N0LuaQIPTYndoo/rest/services/World/GeocodeServer/findAddressCandidates\\n\\nSuggestions\\n- https://utility.arcgis.com/usrsvcs/appservices/z2N0LuaQIPTYndoo/rest/services/World/GeocodeServer/suggest\\n\\nReverse Geocoding\\n- https://utility.arcgis.com/usrsvcs/appservices/z2N0LuaQIPTYndoo/rest/services/World/GeocodeServer/reverseGeocode\\n\\nBatch Geocoding\\n- https://utility.arcgis.com/usrsvcs/appservices/z2N0LuaQIPTYndoo/rest/services/World/GeocodeServer/geocodeAddresses\\n\\n'"
      ]
     },
     "execution_count": 3,
     "metadata": {},
     "output_type": "execute_result"
    }
   ],
   "source": [
    "from arcgis.gis import GIS\n",
    "from arcgis.mapping import WebMap, WebScene\n",
    "from arcgis.widgets import FeatureSet, Layer, MapView\n",
    "from arcgis.features import summarize_data, FeatureLayer, manage_data\n",
    "\n",
    "from IPython.display import display\n",
    "import pandas as pd\n",
    "import json\n",
    "import requests \n",
    "\n",
    "'''\n",
    "main fields:\n",
    "------------\n",
    "Client ID\n",
    "- 3hEOA0ytHFO2XH3w\n",
    "\n",
    "Client Secret:\n",
    "- f3721c85ba2d4c919a792f6cf427ca8e\n",
    "\n",
    "Temporary Token\n",
    "- q4Drp_tg2sHmcDXdrmrepO7y1v69kfN03rP6vdr9Ie89Q2HEIZhg_O5TXoH3aixk44X_o9i9XMIWOP1ZHPe4XrsWesWOx0CY0SVWsiO-SdsrwuXnIJVv8nco3D6ZysVY72NBF4KEqe490ccLdOgf6Q..\n",
    "\n",
    "Service Details:\n",
    "----------------\n",
    "Geocoding and Place Search\n",
    "- https://utility.arcgis.com/usrsvcs/appservices/z2N0LuaQIPTYndoo/rest/services/World/GeocodeServer/findAddressCandidates\n",
    "\n",
    "TODO\n",
    "HANDLE UPDATE on feature layers\n",
    "'''\n",
    "\n",
    "from data.geographic import gisConn, gisUser, gisPass\n",
    "gis = GIS(gisConn, gisUser, gisPass)\n",
    "\n"
   ]
  },
  {
   "cell_type": "code",
   "execution_count": 6,
   "metadata": {
    "collapsed": false
   },
   "outputs": [],
   "source": [
    "def get_token():\n",
    "    params = {\n",
    "        'client_id': \"3hEOA0ytHFO2XH3w\",\n",
    "        'client_secret': \"f3721c85ba2d4c919a792f6cf427ca8e\",\n",
    "        'grant_type': \"client_credentials\"\n",
    "    }\n",
    "\n",
    "    request = requests.get('https://www.arcgis.com/sharing/oauth2/token',\n",
    "                           params=params)\n",
    "    response = request.json()\n",
    "    token = response[\"access_token\"]\n",
    "    return token\n",
    "\n",
    "#token = get_token()\n",
    "#token"
   ]
  },
  {
   "cell_type": "code",
   "execution_count": 13,
   "metadata": {
    "collapsed": false
   },
   "outputs": [
    {
     "data": {
      "text/plain": [
       "<Response [200]>"
      ]
     },
     "execution_count": 13,
     "metadata": {},
     "output_type": "execute_result"
    }
   ],
   "source": [
    "def token(token, url):    \n",
    "    '''\n",
    "    - https://utility.arcgis.com/usrsvcs/appservices/PaxuIDwgHm34KeUH/rest/services/World/GeoenrichmentServer/GeoEnrichment/enrich\n",
    "    '''\n",
    "    params = {\n",
    "    'f': 'json',\n",
    "    'token': token,\n",
    "    'studyAreas': '[{\"geometry\":{\"x\":-117.1956,\"y\":34.0572}}]'\n",
    "    }\n",
    "    \n",
    "    url = 'https://utility.arcgis.com/usrsvcs/appservices/PaxuIDwgHm34KeUH/rest/services/World/GeoenrichmentServer/GeoEnrichment/enrich'\n",
    "    data = requests.post(url, params=params)\n",
    "    \n",
    "    return data.json(), data\n",
    "\n",
    "dataJson, data = token(get_token, 'https://utility.arcgis.com/usrsvcs/appservices/PaxuIDwgHm34KeUH/rest/services/World/GeoenrichmentServer/GeoEnrichment/enrich')\n",
    "data"
   ]
  },
  {
   "cell_type": "code",
   "execution_count": 21,
   "metadata": {
    "collapsed": false
   },
   "outputs": [
    {
     "data": {
      "text/plain": [
       "[<Item title:\"city_stock_country\" type:Web Mapping Application owner:w.maquire>,\n",
       " <Item title:\"cityData_1\" type:Feature Service owner:w.maquire>,\n",
       " <Item title:\"cToc\" type:Application owner:w.maquire>,\n",
       " <Item title:\"city_stock_country\" type:Web Map owner:w.maquire>,\n",
       " <Item title:\"city_stock_country\" type:Code Attachment owner:w.maquire>,\n",
       " <Item title:\"cityData_1\" type:CSV owner:w.maquire>]"
      ]
     },
     "metadata": {},
     "output_type": "display_data"
    },
    {
     "data": {
      "text/plain": [
       "[<Item title:\"city_stock_country\" type:Web Mapping Application owner:w.maquire>,\n",
       " <Item title:\"StockDetail\" type:CSV owner:w.maquire>,\n",
       " <Item title:\"city_stock_country\" type:Web Map owner:w.maquire>,\n",
       " <Item title:\"StockDetail\" type:Feature Service owner:w.maquire>,\n",
       " <Item title:\"city_stock_country\" type:Code Attachment owner:w.maquire>]"
      ]
     },
     "metadata": {},
     "output_type": "display_data"
    }
   ],
   "source": [
    "\n",
    "def searchGis(gis, key = 'world'):\n",
    "    items = gis.content.search(key)\n",
    "    for item in items:\n",
    "        display(item)\n",
    "\n",
    "def getFeatureLayers(item):\n",
    "    '''\n",
    "    stockTest = company performance\n",
    "    cityToCompanyTest = company to city comparison    \n",
    "    '''\n",
    "    layers = item.layers\n",
    "    fset = layers[0].query()\n",
    "#    display(fset.df)\n",
    "    return fset\n",
    "\n",
    "search_result = gis.content.search('city')\n",
    "display(search_result)\n",
    "item = search_result[1]\n",
    "cityToCompany_fset = getFeatureLayers(item)\n",
    "\n",
    "search_result = gis.content.search('stock')\n",
    "display(search_result)\n",
    "item = search_result[3]\n",
    "companyStat_fset = getFeatureLayers(item)\n"
   ]
  },
  {
   "cell_type": "code",
   "execution_count": null,
   "metadata": {
    "collapsed": true
   },
   "outputs": [],
   "source": []
  }
 ],
 "metadata": {
  "anaconda-cloud": {},
  "kernelspec": {
   "display_name": "Python [conda root]",
   "language": "python",
   "name": "conda-root-py"
  },
  "language_info": {
   "codemirror_mode": {
    "name": "ipython",
    "version": 3
   },
   "file_extension": ".py",
   "mimetype": "text/x-python",
   "name": "python",
   "nbconvert_exporter": "python",
   "pygments_lexer": "ipython3",
   "version": "3.5.2"
  }
 },
 "nbformat": 4,
 "nbformat_minor": 1
}
