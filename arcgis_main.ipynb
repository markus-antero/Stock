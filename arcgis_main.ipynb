{
 "cells": [
  {
   "cell_type": "code",
   "execution_count": 1,
   "metadata": {
    "collapsed": false
   },
   "outputs": [],
   "source": [
    "from arcgis.gis import GIS\n",
    "from arcgis.mapping import WebMap, WebScene\n",
    "from arcgis.widgets import FeatureSet, Layer, MapView\n",
    "from arcgis.features import summarize_data, FeatureLayer, manage_data\n",
    "\n",
    "from IPython.display import display\n",
    "import pandas as pd\n",
    "import json\n",
    "import requests \n",
    "\n",
    "from data.geographic import gisConn, gisUser, gisPass\n",
    "\n",
    "gis = GIS(gisConn, gisUser, gisPass)\n"
   ]
  },
  {
   "cell_type": "code",
   "execution_count": 7,
   "metadata": {
    "collapsed": false
   },
   "outputs": [],
   "source": [
    "def registerGis(gis):\n",
    "    '''\n",
    "    gis = GIS(conn, user, pass)\n",
    "    '''\n",
    "    fc = gis.content.import_data(readWiki(\"https://en.wikipedia.org/wiki/Number_of_guns_per_capita_by_country\", 1), \n",
    "                                 {\"CountryCode\":\"Country\"})\n",
    "    map1 = gis.map('UK')\n",
    "    map1.add_layer(fc, {\"renderer\":\"ClassedSizeRenderer\",\n",
    "               \"field_name\": \"Guns_per_100_Residents\"})\n",
    "    \n",
    "    item_properties = {\n",
    "        \"title\": \"Worldwide gun ownership\",\n",
    "        \"tags\" : \"guns,violence\",\n",
    "        \"snippet\": \" GSR Worldwide gun ownership\",\n",
    "        \"description\": \"test description\",\n",
    "        \"text\": json.dumps({\"featureCollection\": {\"layers\": [dict(fc.layer)]}}),\n",
    "        \"type\": \"Feature Collection\",\n",
    "        \"typeKeywords\": \"Data, Feature Collection, Singlelayer\",\n",
    "        \"extent\" : \"-102.5272,-41.7886,172.5967,64.984\"\n",
    "    }\n",
    "    item = gis.content.add(item_properties)\n",
    "    return map1, item\n",
    "\n",
    "def readWiki(url, tableIndex):\n",
    "    '''\n",
    "    - df = pd.read_html(\"https://en.wikipedia.org/wiki/Number_of_guns_per_capita_by_country\")[1]\n",
    "    '''\n",
    "    df = pd.read_html(url)[tableIndex]\n",
    "    df.columns = df.iloc[0]\n",
    "    df = df.reindex(df.index.drop(0))\n",
    "\n",
    "# change number + index to number    \n",
    "    df.iloc[0,2] = 112.6\n",
    "\n",
    "# change column format    \n",
    "    converted_column = pd.to_numeric(df[\"Guns per 100 Residents\"], errors = 'coerce')\n",
    "    df['Guns per 100 Residents'] = converted_column\n",
    "    return df\n",
    "\n",
    "#map1, item = registerGis(gis)"
   ]
  },
  {
   "cell_type": "code",
   "execution_count": 8,
   "metadata": {
    "collapsed": false
   },
   "outputs": [
    {
     "data": {
      "text/html": [
       "<div class=\"item_container\" style=\"height: auto; overflow: hidden; border: 1px solid #cfcfcf; border-radius: 2px; background: #f6fafa; line-height: 1.21429em; padding: 10px;\">\n",
       "                    <div class=\"item_left\" style=\"width: 210px; float: left;\">\n",
       "                       <a href='https://www.arcgis.com/home/item.html?id=fd661dd390934cb7aaf6eb14a6ae5bc9' target='_blank'>\n",
       "                        <img src='http://static.arcgis.com/images/desktopapp.png' class=\"itemThumbnail\">\n",
       "                       </a>\n",
       "                    </div>\n",
       "\n",
       "                    <div class=\"item_right\"     style=\"float: none; width: auto; overflow: hidden;\">\n",
       "                        <a href='https://www.arcgis.com/home/item.html?id=fd661dd390934cb7aaf6eb14a6ae5bc9' target='_blank'><b>Worldwide gun ownership</b>\n",
       "                        </a>\n",
       "                        <br/> GSR Worldwide gun ownership<img src='https://www.arcgis.com/home/js/jsapi/esri/css/images/item_type_icons/features16.png' style=\"vertical-align:middle;\">Feature Collection by w.maquire\n",
       "                        <br/>Last Modified: toukokuu 26, 2017\n",
       "                        <br/>0 comments, 0 views\n",
       "                    </div>\n",
       "                </div>\n",
       "                "
      ],
      "text/plain": [
       "<Item title:\"Worldwide gun ownership\" type:Feature Collection owner:w.maquire>"
      ]
     },
     "execution_count": 8,
     "metadata": {},
     "output_type": "execute_result"
    }
   ],
   "source": [
    "search_result = gis.content.search(\"Worldwide gun ownership\")\n",
    "search_result[0]"
   ]
  },
  {
   "cell_type": "code",
   "execution_count": 9,
   "metadata": {
    "collapsed": false
   },
   "outputs": [],
   "source": [
    "def searchGis(gis, key = 'world'):\n",
    "    items = gis.content.search(key)\n",
    "    for item in items:\n",
    "        display(item)\n",
    "\n",
    "def getFeatureLayers(item):\n",
    "    '''\n",
    "    stockTest = company performance\n",
    "    cityToCompanyTest = company to city comparison    \n",
    "    '''\n",
    "    layers = item.layers\n",
    "    fset = layers[0].query()\n",
    "    display(fset.df)\n",
    "    return fset\n",
    "\n",
    "search_result = gis.content.search('cityToCompany')\n",
    "#item = search_result[0]\n",
    "#cityToCompany_fset = getFeatureLayers(item)\n",
    "\n",
    "search_result = gis.content.search('stockTest')\n",
    "#item = search_result[0]\n",
    "#companyStat_fset = getFeatureLayers(item)\n"
   ]
  },
  {
   "cell_type": "code",
   "execution_count": 3,
   "metadata": {
    "collapsed": false
   },
   "outputs": [
    {
     "data": {
      "text/html": [
       "<div class=\"item_container\" style=\"height: auto; overflow: hidden; border: 1px solid #cfcfcf; border-radius: 2px; background: #f6fafa; line-height: 1.21429em; padding: 10px;\">\n",
       "                    <div class=\"item_left\" style=\"width: 210px; float: left;\">\n",
       "                       <a href='http://www.arcgis.com/home/item.html?id=a3c6a5ce439f47bba5340451f40df346' target='_blank'>\n",
       "                        <img src='http://www.arcgis.com/sharing/rest//content/items/a3c6a5ce439f47bba5340451f40df346/info/thumbnail/thumbnail.jpeg' class=\"itemThumbnail\">\n",
       "                       </a>\n",
       "                    </div>\n",
       "\n",
       "                    <div class=\"item_right\"     style=\"float: none; width: auto; overflow: hidden;\">\n",
       "                        <a href='http://www.arcgis.com/home/item.html?id=a3c6a5ce439f47bba5340451f40df346' target='_blank'><b>Natural Disasters</b>\n",
       "                        </a>\n",
       "                        <br/>This web scene contains historic earthquakes, tornados, typhoons, and 3D cities.<img src='http://www.arcgis.com/home/js/jsapi/esri/css/images/item_type_icons/webscene16.png' style=\"vertical-align:middle;\">Web Scene by khalaf_AGIS\n",
       "                        <br/>Last Modified: huhtikuu 06, 2017\n",
       "                        <br/>0 comments, 0 views\n",
       "                    </div>\n",
       "                </div>\n",
       "                "
      ],
      "text/plain": [
       "<Item title:\"Natural Disasters\" type:Web Scene owner:khalaf_AGIS>"
      ]
     },
     "metadata": {},
     "output_type": "display_data"
    },
    {
     "data": {
      "text/html": [
       "<div class=\"item_container\" style=\"height: auto; overflow: hidden; border: 1px solid #cfcfcf; border-radius: 2px; background: #f6fafa; line-height: 1.21429em; padding: 10px;\">\n",
       "                    <div class=\"item_left\" style=\"width: 210px; float: left;\">\n",
       "                       <a href='http://www.arcgis.com/home/item.html?id=f7481c5ce5ef4198b574bc21444176a4' target='_blank'>\n",
       "                        <img src='http://www.arcgis.com/sharing/rest//content/items/f7481c5ce5ef4198b574bc21444176a4/info/thumbnail/thumbnail.jpeg' class=\"itemThumbnail\">\n",
       "                       </a>\n",
       "                    </div>\n",
       "\n",
       "                    <div class=\"item_right\"     style=\"float: none; width: auto; overflow: hidden;\">\n",
       "                        <a href='http://www.arcgis.com/home/item.html?id=f7481c5ce5ef4198b574bc21444176a4' target='_blank'><b>Sacramento City #2</b>\n",
       "                        </a>\n",
       "                        <br/><img src='http://www.arcgis.com/home/js/jsapi/esri/css/images/item_type_icons/webscene16.png' style=\"vertical-align:middle;\">Web Scene by matt8905@esri.com_CountySandbox\n",
       "                        <br/>Last Modified: huhtikuu 25, 2017\n",
       "                        <br/>0 comments, 0 views\n",
       "                    </div>\n",
       "                </div>\n",
       "                "
      ],
      "text/plain": [
       "<Item title:\"Sacramento City #2\" type:Web Scene owner:matt8905@esri.com_CountySandbox>"
      ]
     },
     "metadata": {},
     "output_type": "display_data"
    },
    {
     "data": {
      "text/html": [
       "<div class=\"item_container\" style=\"height: auto; overflow: hidden; border: 1px solid #cfcfcf; border-radius: 2px; background: #f6fafa; line-height: 1.21429em; padding: 10px;\">\n",
       "                    <div class=\"item_left\" style=\"width: 210px; float: left;\">\n",
       "                       <a href='http://www.arcgis.com/home/item.html?id=5729233163d643de99318378e150032f' target='_blank'>\n",
       "                        <img src='http://www.arcgis.com/sharing/rest//content/items/5729233163d643de99318378e150032f/info/thumbnail/ago_downloaded.jpg' class=\"itemThumbnail\">\n",
       "                       </a>\n",
       "                    </div>\n",
       "\n",
       "                    <div class=\"item_right\"     style=\"float: none; width: auto; overflow: hidden;\">\n",
       "                        <a href='http://www.arcgis.com/home/item.html?id=5729233163d643de99318378e150032f' target='_blank'><b>Optimized New York City LOD2 3D Buildings</b>\n",
       "                        </a>\n",
       "                        <br/>Render performance testing webscene<img src='http://www.arcgis.com/home/js/jsapi/esri/css/images/item_type_icons/webscene16.png' style=\"vertical-align:middle;\">Web Scene by patr4089@esri.com_citygov\n",
       "                        <br/>Last Modified: huhtikuu 25, 2017\n",
       "                        <br/>0 comments, 0 views\n",
       "                    </div>\n",
       "                </div>\n",
       "                "
      ],
      "text/plain": [
       "<Item title:\"Optimized New York City LOD2 3D Buildings\" type:Web Scene owner:patr4089@esri.com_citygov>"
      ]
     },
     "metadata": {},
     "output_type": "display_data"
    },
    {
     "data": {
      "text/html": [
       "<div class=\"item_container\" style=\"height: auto; overflow: hidden; border: 1px solid #cfcfcf; border-radius: 2px; background: #f6fafa; line-height: 1.21429em; padding: 10px;\">\n",
       "                    <div class=\"item_left\" style=\"width: 210px; float: left;\">\n",
       "                       <a href='http://www.arcgis.com/home/item.html?id=839ff075d5c14786a0eb59cb1f57a98d' target='_blank'>\n",
       "                        <img src='http://www.arcgis.com/sharing/rest//content/items/839ff075d5c14786a0eb59cb1f57a98d/info/thumbnail/thumbnail.jpeg' class=\"itemThumbnail\">\n",
       "                       </a>\n",
       "                    </div>\n",
       "\n",
       "                    <div class=\"item_right\"     style=\"float: none; width: auto; overflow: hidden;\">\n",
       "                        <a href='http://www.arcgis.com/home/item.html?id=839ff075d5c14786a0eb59cb1f57a98d' target='_blank'><b>My Scene city</b>\n",
       "                        </a>\n",
       "                        <br/><img src='http://www.arcgis.com/home/js/jsapi/esri/css/images/item_type_icons/webscene16.png' style=\"vertical-align:middle;\">Web Scene by tuc.workshop21\n",
       "                        <br/>Last Modified: kesäkuu 07, 2017\n",
       "                        <br/>0 comments, 0 views\n",
       "                    </div>\n",
       "                </div>\n",
       "                "
      ],
      "text/plain": [
       "<Item title:\"My Scene city\" type:Web Scene owner:tuc.workshop21>"
      ]
     },
     "metadata": {},
     "output_type": "display_data"
    },
    {
     "data": {
      "text/html": [
       "<div class=\"item_container\" style=\"height: auto; overflow: hidden; border: 1px solid #cfcfcf; border-radius: 2px; background: #f6fafa; line-height: 1.21429em; padding: 10px;\">\n",
       "                    <div class=\"item_left\" style=\"width: 210px; float: left;\">\n",
       "                       <a href='http://www.arcgis.com/home/item.html?id=782185332d40456a9e1ea26be42749e5' target='_blank'>\n",
       "                        <img src='http://www.arcgis.com/sharing/rest//content/items/782185332d40456a9e1ea26be42749e5/info/thumbnail/thumbnail.jpeg' class=\"itemThumbnail\">\n",
       "                       </a>\n",
       "                    </div>\n",
       "\n",
       "                    <div class=\"item_right\"     style=\"float: none; width: auto; overflow: hidden;\">\n",
       "                        <a href='http://www.arcgis.com/home/item.html?id=782185332d40456a9e1ea26be42749e5' target='_blank'><b>New Orleans 3D Buildings</b>\n",
       "                        </a>\n",
       "                        <br/>3D buildings and LiDAR for New Orleans, LA<img src='http://www.arcgis.com/home/js/jsapi/esri/css/images/item_type_icons/webscene16.png' style=\"vertical-align:middle;\">Web Scene by esri_3d\n",
       "                        <br/>Last Modified: helmikuu 09, 2017\n",
       "                        <br/>0 comments, 0 views\n",
       "                    </div>\n",
       "                </div>\n",
       "                "
      ],
      "text/plain": [
       "<Item title:\"New Orleans 3D Buildings\" type:Web Scene owner:esri_3d>"
      ]
     },
     "metadata": {},
     "output_type": "display_data"
    },
    {
     "data": {
      "text/html": [
       "<div class=\"item_container\" style=\"height: auto; overflow: hidden; border: 1px solid #cfcfcf; border-radius: 2px; background: #f6fafa; line-height: 1.21429em; padding: 10px;\">\n",
       "                    <div class=\"item_left\" style=\"width: 210px; float: left;\">\n",
       "                       <a href='http://www.arcgis.com/home/item.html?id=ba76482e97f840edbb43ebcc557cb8f2' target='_blank'>\n",
       "                        <img src='http://www.arcgis.com/sharing/rest//content/items/ba76482e97f840edbb43ebcc557cb8f2/info/thumbnail/thumbnail.jpeg' class=\"itemThumbnail\">\n",
       "                       </a>\n",
       "                    </div>\n",
       "\n",
       "                    <div class=\"item_right\"     style=\"float: none; width: auto; overflow: hidden;\">\n",
       "                        <a href='http://www.arcgis.com/home/item.html?id=ba76482e97f840edbb43ebcc557cb8f2' target='_blank'><b>Vancouver Coastal Health</b>\n",
       "                        </a>\n",
       "                        <br/>Vancouver Coastal Health Community Care Facilities in the City of Vancouver, British Columbia<img src='http://www.arcgis.com/home/js/jsapi/esri/css/images/item_type_icons/webscene16.png' style=\"vertical-align:middle;\">Web Scene by Thomas_BHCGIS\n",
       "                        <br/>Last Modified: joulukuu 11, 2016\n",
       "                        <br/>0 comments, 0 views\n",
       "                    </div>\n",
       "                </div>\n",
       "                "
      ],
      "text/plain": [
       "<Item title:\"Vancouver Coastal Health\" type:Web Scene owner:Thomas_BHCGIS>"
      ]
     },
     "metadata": {},
     "output_type": "display_data"
    },
    {
     "data": {
      "text/html": [
       "<div class=\"item_container\" style=\"height: auto; overflow: hidden; border: 1px solid #cfcfcf; border-radius: 2px; background: #f6fafa; line-height: 1.21429em; padding: 10px;\">\n",
       "                    <div class=\"item_left\" style=\"width: 210px; float: left;\">\n",
       "                       <a href='http://www.arcgis.com/home/item.html?id=15429117dc9e46cb989959deecbdb301' target='_blank'>\n",
       "                        <img src='http://www.arcgis.com/sharing/rest//content/items/15429117dc9e46cb989959deecbdb301/info/thumbnail/thumbnail.jpeg' class=\"itemThumbnail\">\n",
       "                       </a>\n",
       "                    </div>\n",
       "\n",
       "                    <div class=\"item_right\"     style=\"float: none; width: auto; overflow: hidden;\">\n",
       "                        <a href='http://www.arcgis.com/home/item.html?id=15429117dc9e46cb989959deecbdb301' target='_blank'><b>3d Parks</b>\n",
       "                        </a>\n",
       "                        <br/>Where to Play in Riverside? <img src='http://www.arcgis.com/home/js/jsapi/esri/css/images/item_type_icons/webscene16.png' style=\"vertical-align:middle;\">Web Scene by LPierce@riverside.tld_CityOfRiverside\n",
       "                        <br/>Last Modified: huhtikuu 04, 2017\n",
       "                        <br/>0 comments, 0 views\n",
       "                    </div>\n",
       "                </div>\n",
       "                "
      ],
      "text/plain": [
       "<Item title:\"3d Parks\" type:Web Scene owner:LPierce@riverside.tld_CityOfRiverside>"
      ]
     },
     "metadata": {},
     "output_type": "display_data"
    },
    {
     "data": {
      "text/html": [
       "<div class=\"item_container\" style=\"height: auto; overflow: hidden; border: 1px solid #cfcfcf; border-radius: 2px; background: #f6fafa; line-height: 1.21429em; padding: 10px;\">\n",
       "                    <div class=\"item_left\" style=\"width: 210px; float: left;\">\n",
       "                       <a href='http://www.arcgis.com/home/item.html?id=920ab8695d1148df927b183ebaf07733' target='_blank'>\n",
       "                        <img src='http://www.arcgis.com/sharing/rest//content/items/920ab8695d1148df927b183ebaf07733/info/thumbnail/thumbnail.jpeg' class=\"itemThumbnail\">\n",
       "                       </a>\n",
       "                    </div>\n",
       "\n",
       "                    <div class=\"item_right\"     style=\"float: none; width: auto; overflow: hidden;\">\n",
       "                        <a href='http://www.arcgis.com/home/item.html?id=920ab8695d1148df927b183ebaf07733' target='_blank'><b>Natural Disasters</b>\n",
       "                        </a>\n",
       "                        <br/>This web scene contains historic earthquakes, tornadoes, typhoons, and 3D cities<img src='http://www.arcgis.com/home/js/jsapi/esri/css/images/item_type_icons/webscene16.png' style=\"vertical-align:middle;\">Web Scene by akishor1_GISandData\n",
       "                        <br/>Last Modified: maaliskuu 17, 2017\n",
       "                        <br/>0 comments, 0 views\n",
       "                    </div>\n",
       "                </div>\n",
       "                "
      ],
      "text/plain": [
       "<Item title:\"Natural Disasters\" type:Web Scene owner:akishor1_GISandData>"
      ]
     },
     "metadata": {},
     "output_type": "display_data"
    },
    {
     "data": {
      "text/html": [
       "<div class=\"item_container\" style=\"height: auto; overflow: hidden; border: 1px solid #cfcfcf; border-radius: 2px; background: #f6fafa; line-height: 1.21429em; padding: 10px;\">\n",
       "                    <div class=\"item_left\" style=\"width: 210px; float: left;\">\n",
       "                       <a href='http://www.arcgis.com/home/item.html?id=6f0ed70a8009487abc4b6229af304e94' target='_blank'>\n",
       "                        <img src='http://www.arcgis.com/sharing/rest//content/items/6f0ed70a8009487abc4b6229af304e94/info/thumbnail/_7BE82FDF14-790D-41D2-AD00-E6C698D91F69_7D.png' class=\"itemThumbnail\">\n",
       "                       </a>\n",
       "                    </div>\n",
       "\n",
       "                    <div class=\"item_right\"     style=\"float: none; width: auto; overflow: hidden;\">\n",
       "                        <a href='http://www.arcgis.com/home/item.html?id=6f0ed70a8009487abc4b6229af304e94' target='_blank'><b>NYC_3D_Buildings2</b>\n",
       "                        </a>\n",
       "                        <br/>New York Cities open source LoD2 3D Buildings with 2014 Post Sandy LiDAR Point Cloud Survey<img src='http://www.arcgis.com/home/js/jsapi/esri/css/images/item_type_icons/webscene16.png' style=\"vertical-align:middle;\">Web Scene by YZhu_SceneLayersTeam\n",
       "                        <br/>Last Modified: toukokuu 19, 2017\n",
       "                        <br/>0 comments, 0 views\n",
       "                    </div>\n",
       "                </div>\n",
       "                "
      ],
      "text/plain": [
       "<Item title:\"NYC_3D_Buildings2\" type:Web Scene owner:YZhu_SceneLayersTeam>"
      ]
     },
     "metadata": {},
     "output_type": "display_data"
    },
    {
     "data": {
      "text/html": [
       "<div class=\"item_container\" style=\"height: auto; overflow: hidden; border: 1px solid #cfcfcf; border-radius: 2px; background: #f6fafa; line-height: 1.21429em; padding: 10px;\">\n",
       "                    <div class=\"item_left\" style=\"width: 210px; float: left;\">\n",
       "                       <a href='http://www.arcgis.com/home/item.html?id=3bf21a1c2eea42739910a16613122ef8' target='_blank'>\n",
       "                        <img src='http://www.arcgis.com/sharing/rest//content/items/3bf21a1c2eea42739910a16613122ef8/info/thumbnail/_7BAAD8B3BD-98DE-4A42-A9F5-2D7CFE81415E_7D.png' class=\"itemThumbnail\">\n",
       "                       </a>\n",
       "                    </div>\n",
       "\n",
       "                    <div class=\"item_right\"     style=\"float: none; width: auto; overflow: hidden;\">\n",
       "                        <a href='http://www.arcgis.com/home/item.html?id=3bf21a1c2eea42739910a16613122ef8' target='_blank'><b>New_York_City_3D_LiDAR_origin</b>\n",
       "                        </a>\n",
       "                        <br/>New York Cities open source LoD2 3D Buildings with 2014 Post Sandy LiDAR Point Cloud Survey<img src='http://www.arcgis.com/home/js/jsapi/esri/css/images/item_type_icons/webscene16.png' style=\"vertical-align:middle;\">Web Scene by holistic_user10\n",
       "                        <br/>Last Modified: toukokuu 20, 2017\n",
       "                        <br/>0 comments, 0 views\n",
       "                    </div>\n",
       "                </div>\n",
       "                "
      ],
      "text/plain": [
       "<Item title:\"New_York_City_3D_LiDAR_origin\" type:Web Scene owner:holistic_user10>"
      ]
     },
     "metadata": {},
     "output_type": "display_data"
    },
    {
     "data": {
      "text/html": [
       "<div class=\"item_container\" style=\"height: auto; overflow: hidden; border: 1px solid #cfcfcf; border-radius: 2px; background: #f6fafa; line-height: 1.21429em; padding: 10px;\">\n",
       "                    <div class=\"item_left\" style=\"width: 210px; float: left;\">\n",
       "                       <a href='http://www.arcgis.com/home/item.html?id=f25ea9fc3b554d5d923e0f4911838e41' target='_blank'>\n",
       "                        <img src='http://www.arcgis.com/sharing/rest//content/items/f25ea9fc3b554d5d923e0f4911838e41/info/thumbnail/_7BFC670302-0D77-4E08-9B56-DFF8A15E52C3_7D.png' class=\"itemThumbnail\">\n",
       "                       </a>\n",
       "                    </div>\n",
       "\n",
       "                    <div class=\"item_right\"     style=\"float: none; width: auto; overflow: hidden;\">\n",
       "                        <a href='http://www.arcgis.com/home/item.html?id=f25ea9fc3b554d5d923e0f4911838e41' target='_blank'><b>3dmarkers_trees_cities</b>\n",
       "                        </a>\n",
       "                        <br/>t<img src='http://www.arcgis.com/home/js/jsapi/esri/css/images/item_type_icons/webscene16.png' style=\"vertical-align:middle;\">Web Scene by susantran\n",
       "                        <br/>Last Modified: joulukuu 10, 2016\n",
       "                        <br/>0 comments, 0 views\n",
       "                    </div>\n",
       "                </div>\n",
       "                "
      ],
      "text/plain": [
       "<Item title:\"3dmarkers_trees_cities\" type:Web Scene owner:susantran>"
      ]
     },
     "metadata": {},
     "output_type": "display_data"
    },
    {
     "data": {
      "text/html": [
       "<div class=\"item_container\" style=\"height: auto; overflow: hidden; border: 1px solid #cfcfcf; border-radius: 2px; background: #f6fafa; line-height: 1.21429em; padding: 10px;\">\n",
       "                    <div class=\"item_left\" style=\"width: 210px; float: left;\">\n",
       "                       <a href='http://www.arcgis.com/home/item.html?id=8dd04ac1fab0474caa7ebed8a14b9a2e' target='_blank'>\n",
       "                        <img src='http://www.arcgis.com/sharing/rest//content/items/8dd04ac1fab0474caa7ebed8a14b9a2e/info/thumbnail/_7B5F629079-2D89-494A-A55B-C05469A7C2E3_7D.png' class=\"itemThumbnail\">\n",
       "                       </a>\n",
       "                    </div>\n",
       "\n",
       "                    <div class=\"item_right\"     style=\"float: none; width: auto; overflow: hidden;\">\n",
       "                        <a href='http://www.arcgis.com/home/item.html?id=8dd04ac1fab0474caa7ebed8a14b9a2e' target='_blank'><b>WorldPop</b>\n",
       "                        </a>\n",
       "                        <br/>summary<img src='http://www.arcgis.com/home/js/jsapi/esri/css/images/item_type_icons/webscene16.png' style=\"vertical-align:middle;\">Web Scene by msummers_monstropolis\n",
       "                        <br/>Last Modified: maaliskuu 23, 2017\n",
       "                        <br/>0 comments, 0 views\n",
       "                    </div>\n",
       "                </div>\n",
       "                "
      ],
      "text/plain": [
       "<Item title:\"WorldPop\" type:Web Scene owner:msummers_monstropolis>"
      ]
     },
     "metadata": {},
     "output_type": "display_data"
    },
    {
     "data": {
      "text/html": [
       "<div class=\"item_container\" style=\"height: auto; overflow: hidden; border: 1px solid #cfcfcf; border-radius: 2px; background: #f6fafa; line-height: 1.21429em; padding: 10px;\">\n",
       "                    <div class=\"item_left\" style=\"width: 210px; float: left;\">\n",
       "                       <a href='http://www.arcgis.com/home/item.html?id=e2b725e32fb54f31b6c1b81eb1d2311c' target='_blank'>\n",
       "                        <img src='http://www.arcgis.com/sharing/rest//content/items/e2b725e32fb54f31b6c1b81eb1d2311c/info/thumbnail/thumbnail.jpeg' class=\"itemThumbnail\">\n",
       "                       </a>\n",
       "                    </div>\n",
       "\n",
       "                    <div class=\"item_right\"     style=\"float: none; width: auto; overflow: hidden;\">\n",
       "                        <a href='http://www.arcgis.com/home/item.html?id=e2b725e32fb54f31b6c1b81eb1d2311c' target='_blank'><b>Mosul Dam</b>\n",
       "                        </a>\n",
       "                        <br/>Web Scene of Mosul Dam, North of the City<img src='http://www.arcgis.com/home/js/jsapi/esri/css/images/item_type_icons/webscene16.png' style=\"vertical-align:middle;\">Web Scene by thom7739@esri.com_esrifederal\n",
       "                        <br/>Last Modified: maaliskuu 28, 2017\n",
       "                        <br/>0 comments, 0 views\n",
       "                    </div>\n",
       "                </div>\n",
       "                "
      ],
      "text/plain": [
       "<Item title:\"Mosul Dam\" type:Web Scene owner:thom7739@esri.com_esrifederal>"
      ]
     },
     "metadata": {},
     "output_type": "display_data"
    },
    {
     "data": {
      "text/html": [
       "<div class=\"item_container\" style=\"height: auto; overflow: hidden; border: 1px solid #cfcfcf; border-radius: 2px; background: #f6fafa; line-height: 1.21429em; padding: 10px;\">\n",
       "                    <div class=\"item_left\" style=\"width: 210px; float: left;\">\n",
       "                       <a href='http://www.arcgis.com/home/item.html?id=f797c08c021d4c0c9b224e8aef75f933' target='_blank'>\n",
       "                        <img src='http://www.arcgis.com/sharing/rest//content/items/f797c08c021d4c0c9b224e8aef75f933/info/thumbnail/ago_downloaded.jpg' class=\"itemThumbnail\">\n",
       "                       </a>\n",
       "                    </div>\n",
       "\n",
       "                    <div class=\"item_right\"     style=\"float: none; width: auto; overflow: hidden;\">\n",
       "                        <a href='http://www.arcgis.com/home/item.html?id=f797c08c021d4c0c9b224e8aef75f933' target='_blank'><b>City of Queenstown</b>\n",
       "                        </a>\n",
       "                        <br/>Queenstown 3D for planning, utilities, interiors<img src='http://www.arcgis.com/home/js/jsapi/esri/css/images/item_type_icons/webscene16.png' style=\"vertical-align:middle;\">Web Scene by awesome3D\n",
       "                        <br/>Last Modified: syyskuu 05, 2016\n",
       "                        <br/>0 comments, 0 views\n",
       "                    </div>\n",
       "                </div>\n",
       "                "
      ],
      "text/plain": [
       "<Item title:\"City of Queenstown\" type:Web Scene owner:awesome3D>"
      ]
     },
     "metadata": {},
     "output_type": "display_data"
    },
    {
     "data": {
      "text/html": [
       "<div class=\"item_container\" style=\"height: auto; overflow: hidden; border: 1px solid #cfcfcf; border-radius: 2px; background: #f6fafa; line-height: 1.21429em; padding: 10px;\">\n",
       "                    <div class=\"item_left\" style=\"width: 210px; float: left;\">\n",
       "                       <a href='http://www.arcgis.com/home/item.html?id=3a7bf378121e4ac690c32a399676b860' target='_blank'>\n",
       "                        <img src='http://www.arcgis.com/sharing/rest//content/items/3a7bf378121e4ac690c32a399676b860/info/thumbnail/thumbnail.jpeg' class=\"itemThumbnail\">\n",
       "                       </a>\n",
       "                    </div>\n",
       "\n",
       "                    <div class=\"item_right\"     style=\"float: none; width: auto; overflow: hidden;\">\n",
       "                        <a href='http://www.arcgis.com/home/item.html?id=3a7bf378121e4ac690c32a399676b860' target='_blank'><b>Natural Disasters</b>\n",
       "                        </a>\n",
       "                        <br/>This web scene contains historic earthquakes, tornadoes, typhoons, and 3D cities.<img src='http://www.arcgis.com/home/js/jsapi/esri/css/images/item_type_icons/webscene16.png' style=\"vertical-align:middle;\">Web Scene by raove@us.ibm.com\n",
       "                        <br/>Last Modified: huhtikuu 02, 2017\n",
       "                        <br/>0 comments, 0 views\n",
       "                    </div>\n",
       "                </div>\n",
       "                "
      ],
      "text/plain": [
       "<Item title:\"Natural Disasters\" type:Web Scene owner:raove@us.ibm.com>"
      ]
     },
     "metadata": {},
     "output_type": "display_data"
    }
   ],
   "source": [
    "gis = GIS()\n",
    "public_3d_city_scenes = gis.content.search(query=\"3d cities\", item_type = \"web scene\",\n",
    "                                           sort_field=\"numViews\" ,sort_order=\"asc\",\n",
    "                                           max_items = 15, outside_org=True)\n",
    "for item in public_3d_city_scenes:\n",
    "    display(item)"
   ]
  },
  {
   "cell_type": "code",
   "execution_count": 4,
   "metadata": {
    "collapsed": false
   },
   "outputs": [
    {
     "data": {
      "text/html": [
       "<div class=\"item_container\" style=\"height: auto; overflow: hidden; border: 1px solid #cfcfcf; border-radius: 2px; background: #f6fafa; line-height: 1.21429em; padding: 10px;\">\n",
       "                    <div class=\"item_left\" style=\"width: 210px; float: left;\">\n",
       "                       <a href='http://www.arcgis.com/home/item.html?id=a3c6a5ce439f47bba5340451f40df346' target='_blank'>\n",
       "                        <img src='http://www.arcgis.com/sharing/rest//content/items/a3c6a5ce439f47bba5340451f40df346/info/thumbnail/thumbnail.jpeg' class=\"itemThumbnail\">\n",
       "                       </a>\n",
       "                    </div>\n",
       "\n",
       "                    <div class=\"item_right\"     style=\"float: none; width: auto; overflow: hidden;\">\n",
       "                        <a href='http://www.arcgis.com/home/item.html?id=a3c6a5ce439f47bba5340451f40df346' target='_blank'><b>Natural Disasters</b>\n",
       "                        </a>\n",
       "                        <br/>This web scene contains historic earthquakes, tornados, typhoons, and 3D cities.<img src='http://www.arcgis.com/home/js/jsapi/esri/css/images/item_type_icons/webscene16.png' style=\"vertical-align:middle;\">Web Scene by khalaf_AGIS\n",
       "                        <br/>Last Modified: huhtikuu 06, 2017\n",
       "                        <br/>0 comments, 0 views\n",
       "                    </div>\n",
       "                </div>\n",
       "                "
      ],
      "text/plain": [
       "<Item title:\"Natural Disasters\" type:Web Scene owner:khalaf_AGIS>"
      ]
     },
     "execution_count": 4,
     "metadata": {},
     "output_type": "execute_result"
    }
   ],
   "source": [
    "item = public_3d_city_scenes[0]\n",
    "item"
   ]
  },
  {
   "cell_type": "code",
   "execution_count": null,
   "metadata": {
    "collapsed": true
   },
   "outputs": [],
   "source": []
  }
 ],
 "metadata": {
  "anaconda-cloud": {},
  "kernelspec": {
   "display_name": "Python [conda root]",
   "language": "python",
   "name": "conda-root-py"
  },
  "language_info": {
   "codemirror_mode": {
    "name": "ipython",
    "version": 3
   },
   "file_extension": ".py",
   "mimetype": "text/x-python",
   "name": "python",
   "nbconvert_exporter": "python",
   "pygments_lexer": "ipython3",
   "version": "3.5.2"
  }
 },
 "nbformat": 4,
 "nbformat_minor": 1
}
